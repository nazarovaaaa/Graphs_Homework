{
  "nbformat": 4,
  "nbformat_minor": 0,
  "metadata": {
    "colab": {
      "provenance": []
    },
    "kernelspec": {
      "name": "python3",
      "display_name": "Python 3"
    },
    "language_info": {
      "name": "python"
    }
  },
  "cells": [
    {
      "cell_type": "code",
      "execution_count": null,
      "metadata": {
        "colab": {
          "base_uri": "https://localhost:8080/"
        },
        "id": "nj1POHG8wu0g",
        "outputId": "b9165561-3094-4872-d02d-f6a11524e0b0"
      },
      "outputs": [
        {
          "output_type": "stream",
          "name": "stdout",
          "text": [
            "Collecting git+https://github.com/python-graphblas/python-graphblas\n",
            "  Cloning https://github.com/python-graphblas/python-graphblas to /tmp/pip-req-build-rpw95nrr\n",
            "  Running command git clone --filter=blob:none --quiet https://github.com/python-graphblas/python-graphblas /tmp/pip-req-build-rpw95nrr\n",
            "  Resolved https://github.com/python-graphblas/python-graphblas to commit 27b23e414a9a73daa9c3dda9698e227562d9a18c\n",
            "  Installing build dependencies ... \u001b[?25l\u001b[?25hdone\n",
            "  Getting requirements to build wheel ... \u001b[?25l\u001b[?25hdone\n",
            "  Installing backend dependencies ... \u001b[?25l\u001b[?25hdone\n",
            "  Preparing metadata (pyproject.toml) ... \u001b[?25l\u001b[?25hdone\n",
            "Requirement already satisfied: numpy>=1.23 in /usr/local/lib/python3.10/dist-packages (from python-graphblas==2024.2.0+2.g27b23e41) (1.25.2)\n",
            "Collecting donfig>=0.6 (from python-graphblas==2024.2.0+2.g27b23e41)\n",
            "  Downloading donfig-0.8.1.post0-py3-none-any.whl (24 kB)\n",
            "Requirement already satisfied: pyyaml>=5.4 in /usr/local/lib/python3.10/dist-packages (from python-graphblas==2024.2.0+2.g27b23e41) (6.0.1)\n",
            "Collecting suitesparse-graphblas<9,>=7.4.0.0 (from python-graphblas==2024.2.0+2.g27b23e41)\n",
            "  Downloading suitesparse_graphblas-8.2.1.0-cp310-cp310-manylinux_2_17_x86_64.manylinux2014_x86_64.whl (45.7 MB)\n",
            "\u001b[2K     \u001b[90m━━━━━━━━━━━━━━━━━━━━━━━━━━━━━━━━━━━━━━━━\u001b[0m \u001b[32m45.7/45.7 MB\u001b[0m \u001b[31m11.4 MB/s\u001b[0m eta \u001b[36m0:00:00\u001b[0m\n",
            "\u001b[?25hRequirement already satisfied: numba>=0.55 in /usr/local/lib/python3.10/dist-packages (from python-graphblas==2024.2.0+2.g27b23e41) (0.58.1)\n",
            "Requirement already satisfied: llvmlite<0.42,>=0.41.0dev0 in /usr/local/lib/python3.10/dist-packages (from numba>=0.55->python-graphblas==2024.2.0+2.g27b23e41) (0.41.1)\n",
            "Requirement already satisfied: cffi>=1.11 in /usr/local/lib/python3.10/dist-packages (from suitesparse-graphblas<9,>=7.4.0.0->python-graphblas==2024.2.0+2.g27b23e41) (1.16.0)\n",
            "Requirement already satisfied: pycparser in /usr/local/lib/python3.10/dist-packages (from cffi>=1.11->suitesparse-graphblas<9,>=7.4.0.0->python-graphblas==2024.2.0+2.g27b23e41) (2.22)\n",
            "Building wheels for collected packages: python-graphblas\n",
            "  Building wheel for python-graphblas (pyproject.toml) ... \u001b[?25l\u001b[?25hdone\n",
            "  Created wheel for python-graphblas: filename=python_graphblas-2024.2.0+2.g27b23e41-py3-none-any.whl size=351142 sha256=9f9ffbded40a8b725601c012389020165e8c5f0490a3b9c4d35106dff21ad3cc\n",
            "  Stored in directory: /tmp/pip-ephem-wheel-cache-x_0o93a1/wheels/1d/ff/e1/7abbc85fde1376805d105bcb709a635cac5d6fcf1cc6f7d3ad\n",
            "Successfully built python-graphblas\n",
            "Installing collected packages: donfig, suitesparse-graphblas, python-graphblas\n",
            "Successfully installed donfig-0.8.1.post0 python-graphblas-2024.2.0+2.g27b23e41 suitesparse-graphblas-8.2.1.0\n"
          ]
        }
      ],
      "source": [
        "#!pip install git+https://github.com/python-graphblas/python-graphblas"
      ]
    },
    {
      "cell_type": "code",
      "source": [
        "import graphblas as gb\n",
        "gb.init(\"suitesparse\", blocking=False)\n",
        "\n",
        "from graphblas import Matrix, dtypes, unary, binary, monoid, semiring, Recorder\n",
        "from graphblas.io import mmread\n",
        "import numpy as np"
      ],
      "metadata": {
        "id": "qYHA8J0ygDb9"
      },
      "execution_count": null,
      "outputs": []
    },
    {
      "cell_type": "markdown",
      "source": [
        "**Наивный алгоритм**"
      ],
      "metadata": {
        "id": "ITMtQp0qhYKU"
      }
    },
    {
      "cell_type": "code",
      "source": [
        "def NaiveA3(A):\n",
        "  #возводим в куб матрицу смежности\n",
        "  #функция ожидает на вход формат coo\n",
        "  A2=A.mxm(A)\n",
        "  A3=A2.mxm(A)\n",
        "  #получаю вектор из элементов главной диагонали\n",
        "  tri2=A3.diag()\n",
        "  #подсчитываю сумму элементов диагонали (результат делю на 6)\n",
        "  cnt_triangle=(tri2.reduce(gb.agg.sum).value or 0)\n",
        "  return int(cnt_triangle/6)"
      ],
      "metadata": {
        "id": "w2dOv3gPsLhw"
      },
      "execution_count": null,
      "outputs": []
    },
    {
      "cell_type": "markdown",
      "source": [
        "**Наивный алгоритм с маской**"
      ],
      "metadata": {
        "id": "SUhBwpkk3BfW"
      }
    },
    {
      "cell_type": "code",
      "source": [
        "def NaiveA2(A):\n",
        "  #возводим в квадрат матрицу смежности\n",
        "  #функция ожидает на вход формат coo\n",
        "  A2=A.mxm(A)\n",
        "  #\"просеиваю\" квадрат матрицы смежности через маску\n",
        "  triA=A2.dup(mask=A.dup(dtype=dtypes.BOOL))\n",
        "  #получаем результат путем вычисления суммы построчных сумм элементов матрицы\n",
        "  cnt_triangle=(triA.reduce_scalar(gb.monoid.plus).value or 0)\n",
        "  return int(cnt_triangle/6)"
      ],
      "metadata": {
        "id": "tfCTbSXP5Ksk"
      },
      "execution_count": null,
      "outputs": []
    },
    {
      "cell_type": "markdown",
      "source": [
        "**Cohen's алгоритм**"
      ],
      "metadata": {
        "id": "CbVdDX-i3JXU"
      }
    },
    {
      "cell_type": "code",
      "source": [
        "def Cohens(A):\n",
        "  #получаю верхне- и нижнетреугольные матрицы из матрицы А\n",
        "  #функция ожидает на вход формат coo\n",
        "  L=gb.select.tril(A)\n",
        "  U=gb.select.triu(A)\n",
        "  #\n",
        "  B=L.mxm(U)\n",
        "  #\"просеиваю\" полученную матрицу\n",
        "  C=B.dup(mask=A.dup(dtype=dtypes.BOOL))\n",
        "  #подсчитываю количество треугольников, исключая повторяющиеся\n",
        "  t=(C.reduce_scalar(gb.monoid.plus).value or 0)/2\n",
        "  return int(t)"
      ],
      "metadata": {
        "id": "RsvO7kk3OSmD"
      },
      "execution_count": null,
      "outputs": []
    },
    {
      "cell_type": "markdown",
      "source": [
        "**Sandia алгоритм**"
      ],
      "metadata": {
        "id": "zm2UQqc53Po7"
      }
    },
    {
      "cell_type": "code",
      "source": [
        "def Sandia(A):\n",
        "  #получаю верхне-треугольную матрицы из матрицы А\n",
        "  #функция ожидает на вход формат coo\n",
        "  L=gb.select.tril(A)\n",
        "  #нахожу квадрат верхне-треугольной матрицы\n",
        "  #\"просеиваю\" по маске этой же матрицы\n",
        "  C=L.mxm(L).dup(mask=L.dup(dtype=dtypes.BOOL))\n",
        "  #подсчитываю сумму элементов матрицы\n",
        "  t=(C.reduce_scalar(gb.monoid.plus).value or 0)\n",
        "  return int(t)"
      ],
      "metadata": {
        "id": "CjkULR2ARSR0"
      },
      "execution_count": null,
      "outputs": []
    },
    {
      "cell_type": "markdown",
      "source": [
        "**Функция подсчета количество треугольников для вершины**"
      ],
      "metadata": {
        "id": "u5rUkI3hzpbN"
      }
    },
    {
      "cell_type": "markdown",
      "source": [
        "Так как элемент An(i)(j) для матрицы смежности отражает количество переходов от вершины i к вершине j. В таком случае при n=3 мы получаем путь длиной 3, тогда для элементов диагонали мы получим треугольник (путь длиной 3 с началом и концом в вершине). Поскольку пути i-x-y-i и i-y-x-i будут учтены дважды, делим значение элемента на диагонали на 2. Далее вектор из этих элементов и будет ответом."
      ],
      "metadata": {
        "id": "Z698SfP0SJnh"
      }
    },
    {
      "cell_type": "code",
      "source": [
        "def cntTriangles(A):\n",
        "  #получаю количество строк и столбцов (вершин графа)\n",
        "  cols, rows=A.shape\n",
        "  #возводим в куб матрицу смежности\n",
        "  #функция ожидает на вход формат coo\n",
        "  A2=A.mxm(A)\n",
        "  A3=A2.mxm(A)\n",
        "  #получаю вектор из элементов главной диагонали\n",
        "  #делю на 2, чтобы не дублировать треугольники\n",
        "  tri2=A3.diag()/2\n",
        "  #задаю массив с количеством треугольников для каждой вершины графа (по умолчанию 0)\n",
        "  #использую, чтобы учесть None как 0\n",
        "  cnt_tri=np.array([0]*rows)\n",
        "  #прохожусь по векторам индексов и значений, чтобы изменить не None значения в массиве\n",
        "  for i in range(len(tri2.to_coo()[0])):\n",
        "    cnt_tri[tri2.to_coo()[0][i]]=int(tri2.to_coo()[1][i])\n",
        "  return cnt_tri"
      ],
      "metadata": {
        "id": "sUlh2BnpzyDf"
      },
      "execution_count": null,
      "outputs": []
    },
    {
      "cell_type": "markdown",
      "source": [
        "**Тестирование реализаций**\n",
        "\n",
        "Задам 5 тренировочных матриц смежности, выведу для них визуальное представление графа (матрицы симметричные, чтобы граф был неориентированным) и далее сравню результат функций с правильным."
      ],
      "metadata": {
        "id": "198_5Lc9-9MB"
      }
    },
    {
      "cell_type": "code",
      "source": [
        "#для начала задам простой граф с 4 вершинами и 1 треугольником, в котором участвуют вершины 0, 2 и 3.\n",
        "M1=gb.Matrix.from_coo(\n",
        "    [0,2,0,1,2,2,3,3],\n",
        "    [2,0,3,2,1,3,0,2],\n",
        "    [1,1,1,1,1,1,1,1],\n",
        "    nrows=4,\n",
        "    ncols=4\n",
        ")\n",
        "gb.viz.draw(M1)\n",
        "#проверяю, что все функции возвращают корректный результат\n",
        "assert NaiveA3(M1) == 1\n",
        "assert NaiveA2(M1) == 1\n",
        "assert Cohens(M1) == 1\n",
        "assert Sandia(M1) == 1\n",
        "assert (cntTriangles(M1) == np.array([1, 0, 1, 1])).all()"
      ],
      "metadata": {
        "colab": {
          "base_uri": "https://localhost:8080/",
          "height": 406
        },
        "id": "rHyOQ9ubC6TE",
        "outputId": "cf2429e4-d5f5-40d0-ab30-04ce6680d4a4"
      },
      "execution_count": null,
      "outputs": [
        {
          "output_type": "display_data",
          "data": {
            "text/plain": [
              "<Figure size 640x480 with 1 Axes>"
            ],
            "image/png": "[encoded data removed]"
          },
          "metadata": {}
        }
      ]
    },
    {
      "cell_type": "code",
      "source": [
        "#увеличу количество вершин до 8, при это оставлю 1 треугольник, в котором участвуют вершины 0, 2 и 3.\n",
        "M2=gb.Matrix.from_coo(\n",
        "    [0,2,0,1,2,2,3,3,4,5,6,7,3,2,1,0],\n",
        "    [2,0,3,2,1,3,0,2,0,1,2,3,7,6,5,4],\n",
        "    [1,1,1,1,1,1,1,1,1,1,1,1,1,1,1,1],\n",
        "    nrows=8,\n",
        "    ncols=8\n",
        ")\n",
        "gb.viz.draw(M2)\n",
        "#проверяю, что все функции возвращают корректный результат\n",
        "assert NaiveA3(M2) == 1\n",
        "assert NaiveA2(M2) == 1\n",
        "assert Cohens(M2) == 1\n",
        "assert Sandia(M2) == 1\n",
        "assert (cntTriangles(M2) == np.array([1, 0, 1, 1, 0, 0, 0, 0])).all()"
      ],
      "metadata": {
        "colab": {
          "base_uri": "https://localhost:8080/",
          "height": 406
        },
        "id": "RnQBAb6bBE0U",
        "outputId": "94e83640-f690-464c-e0b6-8eb69fa41621"
      },
      "execution_count": null,
      "outputs": [
        {
          "output_type": "display_data",
          "data": {
            "text/plain": [
              "<Figure size 640x480 with 1 Axes>"
            ],
            "image/png": "[encoded data removed]"
          },
          "metadata": {}
        }
      ]
    },
    {
      "cell_type": "code",
      "source": [
        "#верну 4 вершины, но теперь каждая из вершин будет участвовать в 3х треугольниках (всего треугольников будет 4)\n",
        "M3=gb.Matrix.from_coo(\n",
        "    [0,2,0,1,2,2,3,3,1,0,3,1],\n",
        "    [2,0,3,2,1,3,0,2,0,1,1,3],\n",
        "    [1,1,1,1,1,1,1,1,1,1,1,1],\n",
        "    nrows=4,\n",
        "    ncols=4\n",
        ")\n",
        "gb.viz.draw(M3)\n",
        "#проверяю, что все функции возвращают корректный результат\n",
        "assert NaiveA3(M3) == 4\n",
        "assert NaiveA2(M3) == 4\n",
        "assert Cohens(M3) == 4\n",
        "assert Sandia(M3) == 4\n",
        "assert (cntTriangles(M3) == np.array([3, 3, 3, 3])).all()"
      ],
      "metadata": {
        "colab": {
          "base_uri": "https://localhost:8080/",
          "height": 406
        },
        "id": "Shmjwh0dBuno",
        "outputId": "6ce6e23b-6a5a-428a-b503-aad3b44025ea"
      },
      "execution_count": null,
      "outputs": [
        {
          "output_type": "display_data",
          "data": {
            "text/plain": [
              "<Figure size 640x480 with 1 Axes>"
            ],
            "image/png": "[encoded data removed]"
          },
          "metadata": {}
        }
      ]
    },
    {
      "cell_type": "code",
      "source": [
        "#увеличу количество вершин до 8, и пусть каждая участвует в нескольких треугольниках\n",
        "#вершина 0 - в двух, вершины 1 и 6 - в трех, вершина 2 - в пяти\n",
        "#вершина 3 - в одном, вершины 4 и 7 - ни в одном, вершина 5 - в четырех\n",
        "#всего треугольников при этом будет 6\n",
        "M4=gb.Matrix.from_coo(\n",
        "    [0,2,0,1,2,2,3,3,4,5,6,7,3,2,1,0,6,5,0,5,6,1,5,2],\n",
        "    [2,0,3,2,1,3,0,2,0,1,2,3,7,6,5,4,5,6,5,0,1,6,2,5],\n",
        "    [1,1,1,1,1,1,1,1,1,1,1,1,1,1,1,1,1,1,1,1,1,1,1,1],\n",
        "    nrows=8,\n",
        "    ncols=8\n",
        ")\n",
        "gb.viz.draw(M4)\n",
        "#проверяю, что все функции возвращают корректный результат\n",
        "assert NaiveA3(M4) == 6\n",
        "assert NaiveA2(M4) == 6\n",
        "assert Cohens(M4) == 6\n",
        "assert Sandia(M4) == 6\n",
        "assert (cntTriangles(M4) == np.array([2, 3, 5, 1, 0, 4, 3, 0])).all()"
      ],
      "metadata": {
        "colab": {
          "base_uri": "https://localhost:8080/",
          "height": 406
        },
        "id": "3aIwohwvCjqr",
        "outputId": "7f21b11a-7837-466f-c430-3c344d06fbab"
      },
      "execution_count": null,
      "outputs": [
        {
          "output_type": "display_data",
          "data": {
            "text/plain": [
              "<Figure size 640x480 with 1 Axes>"
            ],
            "image/png": "[encoded data removed]"
          },
          "metadata": {}
        }
      ]
    },
    {
      "cell_type": "code",
      "source": [
        "#задам граф вообще без треугольников с 5 вершинами\n",
        "M5=gb.Matrix.from_coo(\n",
        "    [3,1,0,2,0,3,4,1,4,2],\n",
        "    [1,3,2,0,3,0,1,4,2,4],\n",
        "    [1,1,1,1,1,1,1,1,1,1],\n",
        "    nrows=5,\n",
        "    ncols=5\n",
        ")\n",
        "gb.viz.draw(M5)\n",
        "#проверяю, что все функции возвращают корректный результат\n",
        "assert NaiveA3(M5) == 0\n",
        "assert NaiveA2(M5) == 0\n",
        "assert Cohens(M5) == 0\n",
        "assert Sandia(M5) == 0\n",
        "assert (cntTriangles(M5) == np.array([0, 0, 0, 0, 0])).all()"
      ],
      "metadata": {
        "colab": {
          "base_uri": "https://localhost:8080/",
          "height": 406
        },
        "id": "_q640qDzAKZT",
        "outputId": "a1aea915-1c13-43a3-f728-c9008408fb02"
      },
      "execution_count": null,
      "outputs": [
        {
          "output_type": "display_data",
          "data": {
            "text/plain": [
              "<Figure size 640x480 with 1 Axes>"
            ],
            "image/png": "[encoded data removed]"
          },
          "metadata": {}
        }
      ]
    },
    {
      "cell_type": "markdown",
      "source": [
        "**Тестирование на \"реальных\" графах**"
      ],
      "metadata": {
        "id": "fNXOrlRMFMH-"
      }
    },
    {
      "cell_type": "code",
      "source": [
        "#функция тестирования\n",
        "#получаю время выполнения через timeit\n",
        "def test_time(A):\n",
        "  print('NaiveA3:')\n",
        "  %timeit NaiveA3(A)\n",
        "  print('NaiveA2:')\n",
        "  %timeit NaiveA2(A)\n",
        "  print('Cohens:')\n",
        "  %timeit Cohens(A)\n",
        "  print('Sandia:')\n",
        "  %timeit Sandia(A)"
      ],
      "metadata": {
        "id": "gsQYp0S-qGQy"
      },
      "execution_count": null,
      "outputs": []
    },
    {
      "cell_type": "code",
      "source": [
        "realGraph1=mmread('can_838.mtx')\n",
        "realGraph2=mmread('lshp1561.mtx')\n",
        "realGraph3=mmread('cegb2802.mtx')\n",
        "realGraph4=mmread('fxm3_6.mtx')\n",
        "realGraph5=mmread('wing_nodal.mtx')\n",
        "realGraph6=mmread('pds10.mtx')\n",
        "realGraph7=mmread('pf2177.mtx')\n",
        "realGraph8=mmread('pkustk02.mtx')\n",
        "realGraph9=mmread('tandem_vtx.mtx')\n",
        "realGraph10=mmread('tsyl201.mtx')"
      ],
      "metadata": {
        "id": "NS8Ye-7pEbFw"
      },
      "execution_count": null,
      "outputs": []
    },
    {
      "cell_type": "code",
      "source": [
        "graphAr=[realGraph1, realGraph2, realGraph3, realGraph4, realGraph5, realGraph6, realGraph7, realGraph8, realGraph9, realGraph10]\n",
        "for i in graphAr:\n",
        "  print(f'Количество вершин: {i.shape[0]}, количество ребер: {len(i.to_coo()[0])}')\n",
        "  print(test_time(i))"
      ],
      "metadata": {
        "colab": {
          "base_uri": "https://localhost:8080/"
        },
        "id": "_Lg03_pk1DAk",
        "outputId": "896e3071-8834-4cdf-9404-3ea7dacf8b89"
      },
      "execution_count": null,
      "outputs": [
        {
          "output_type": "stream",
          "name": "stdout",
          "text": [
            "Количество вершин: 838, количество ребер: 10010\n",
            "NaiveA3:\n",
            "5.98 ms ± 3.27 ms per loop (mean ± std. dev. of 7 runs, 100 loops each)\n",
            "NaiveA2:\n",
            "696 µs ± 11.7 µs per loop (mean ± std. dev. of 7 runs, 1000 loops each)\n",
            "Cohens:\n",
            "703 µs ± 115 µs per loop (mean ± std. dev. of 7 runs, 1000 loops each)\n",
            "Sandia:\n",
            "371 µs ± 25.4 µs per loop (mean ± std. dev. of 7 runs, 1000 loops each)\n",
            "None\n",
            "Количество вершин: 1561, количество ребер: 10681\n",
            "NaiveA3:\n",
            "2.81 ms ± 129 µs per loop (mean ± std. dev. of 7 runs, 100 loops each)\n",
            "NaiveA2:\n",
            "721 µs ± 164 µs per loop (mean ± std. dev. of 7 runs, 1000 loops each)\n",
            "Cohens:\n",
            "534 µs ± 11.2 µs per loop (mean ± std. dev. of 7 runs, 1000 loops each)\n",
            "Sandia:\n",
            "391 µs ± 7.24 µs per loop (mean ± std. dev. of 7 runs, 1000 loops each)\n",
            "None\n",
            "Количество вершин: 2802, количество ребер: 277362\n",
            "NaiveA3:\n",
            "207 ms ± 7.66 ms per loop (mean ± std. dev. of 7 runs, 1 loop each)\n",
            "NaiveA2:\n",
            "74.6 ms ± 22.5 ms per loop (mean ± std. dev. of 7 runs, 10 loops each)\n",
            "Cohens:\n",
            "The slowest run took 4.94 times longer than the fastest. This could mean that an intermediate result is being cached.\n",
            "40.3 ms ± 24 ms per loop (mean ± std. dev. of 7 runs, 10 loops each)\n",
            "Sandia:\n",
            "The slowest run took 7.10 times longer than the fastest. This could mean that an intermediate result is being cached.\n",
            "67.7 ms ± 38.2 ms per loop (mean ± std. dev. of 7 runs, 10 loops each)\n",
            "None\n",
            "Количество вершин: 5026, количество ребер: 94026\n",
            "NaiveA3:\n",
            "47.7 ms ± 7.45 ms per loop (mean ± std. dev. of 7 runs, 10 loops each)\n",
            "NaiveA2:\n",
            "9.24 ms ± 3.67 ms per loop (mean ± std. dev. of 7 runs, 100 loops each)\n",
            "Cohens:\n",
            "6.28 ms ± 3.3 ms per loop (mean ± std. dev. of 7 runs, 100 loops each)\n",
            "Sandia:\n",
            "2.13 ms ± 57.3 µs per loop (mean ± std. dev. of 7 runs, 100 loops each)\n",
            "None\n",
            "Количество вершин: 10937, количество ребер: 150976\n",
            "NaiveA3:\n",
            "159 ms ± 23.1 ms per loop (mean ± std. dev. of 7 runs, 10 loops each)\n",
            "NaiveA2:\n",
            "17.1 ms ± 2.99 ms per loop (mean ± std. dev. of 7 runs, 100 loops each)\n",
            "Cohens:\n",
            "14.9 ms ± 8.43 ms per loop (mean ± std. dev. of 7 runs, 10 loops each)\n",
            "Sandia:\n",
            "5.96 ms ± 137 µs per loop (mean ± std. dev. of 7 runs, 100 loops each)\n",
            "None\n",
            "Количество вершин: 16558, количество ребер: 149658\n",
            "NaiveA3:\n",
            "256 ms ± 47.7 ms per loop (mean ± std. dev. of 7 runs, 10 loops each)\n",
            "NaiveA2:\n",
            "The slowest run took 4.23 times longer than the fastest. This could mean that an intermediate result is being cached.\n",
            "14.2 ms ± 8.11 ms per loop (mean ± std. dev. of 7 runs, 100 loops each)\n",
            "Cohens:\n",
            "4.32 ms ± 117 µs per loop (mean ± std. dev. of 7 runs, 100 loops each)\n",
            "Sandia:\n",
            "3.41 ms ± 125 µs per loop (mean ± std. dev. of 7 runs, 100 loops each)\n",
            "None\n",
            "Количество вершин: 9728, количество ребер: 725144\n",
            "NaiveA3:\n",
            "6.27 s ± 435 ms per loop (mean ± std. dev. of 7 runs, 1 loop each)\n",
            "NaiveA2:\n",
            "345 ms ± 81.7 ms per loop (mean ± std. dev. of 7 runs, 1 loop each)\n",
            "Cohens:\n",
            "112 ms ± 2.75 ms per loop (mean ± std. dev. of 7 runs, 10 loops each)\n",
            "Sandia:\n",
            "40.6 ms ± 3.1 ms per loop (mean ± std. dev. of 7 runs, 10 loops each)\n",
            "None\n",
            "Количество вершин: 10800, количество ребер: 810000\n",
            "NaiveA3:\n",
            "576 ms ± 9.57 ms per loop (mean ± std. dev. of 7 runs, 1 loop each)\n",
            "NaiveA2:\n",
            "149 ms ± 21.1 ms per loop (mean ± std. dev. of 7 runs, 10 loops each)\n",
            "Cohens:\n",
            "64.4 ms ± 24.8 ms per loop (mean ± std. dev. of 7 runs, 10 loops each)\n",
            "Sandia:\n",
            "29 ms ± 1.77 ms per loop (mean ± std. dev. of 7 runs, 10 loops each)\n",
            "None\n",
            "Количество вершин: 18454, количество ребер: 253350\n",
            "NaiveA3:\n",
            "195 ms ± 31.8 ms per loop (mean ± std. dev. of 7 runs, 10 loops each)\n",
            "NaiveA2:\n",
            "27.5 ms ± 2.35 ms per loop (mean ± std. dev. of 7 runs, 10 loops each)\n",
            "Cohens:\n",
            "The slowest run took 4.03 times longer than the fastest. This could mean that an intermediate result is being cached.\n",
            "22.3 ms ± 15.6 ms per loop (mean ± std. dev. of 7 runs, 10 loops each)\n",
            "Sandia:\n",
            "10.6 ms ± 553 µs per loop (mean ± std. dev. of 7 runs, 100 loops each)\n",
            "None\n",
            "Количество вершин: 20685, количество ребер: 2454957\n",
            "NaiveA3:\n",
            "2.6 s ± 231 ms per loop (mean ± std. dev. of 7 runs, 1 loop each)\n",
            "NaiveA2:\n",
            "708 ms ± 161 ms per loop (mean ± std. dev. of 7 runs, 1 loop each)\n",
            "Cohens:\n",
            "228 ms ± 4.72 ms per loop (mean ± std. dev. of 7 runs, 1 loop each)\n",
            "Sandia:\n",
            "140 ms ± 32.2 ms per loop (mean ± std. dev. of 7 runs, 10 loops each)\n",
            "None\n"
          ]
        }
      ]
    },
    {
      "cell_type": "markdown",
      "source": [
        "По результатам теста очевидно, что:\n",
        "1. Наивный алгоритм значительно медленнее всех остальных. При этом с увеличением количества вершин/средней плотности разница только растет.\n",
        "2. Наивный алгоритм с маской работает намного быстрее обычного наивного за счет замены тяжеловесного умножения матриц.\n",
        "3. Что касается алгоритмов Cohens и Sandia, они работают на порядок быстрее, при этом наиболее эффективным показал себя алгоритм Sandia."
      ],
      "metadata": {
        "id": "99Hxxhxk2WDI"
      }
    },
    {
      "cell_type": "markdown",
      "source": [
        "**Тестирование случайных графов**\n",
        "\n",
        "Функция генерации принимает на вход количество вершин и ребер. Далее случайным образом отбираются случайные пары вершин (из элементов выше диагонали матрицы смежности) по количеству указанных ребер. После этого индексы выбранных вершин (и симметричные им, т.к. граф неориентированный) добавляются в списки. В ответ возвращается матрица, которая генерируется из формата соо по спискам индексов и значений (для всех ребер вес 1)."
      ],
      "metadata": {
        "id": "6ZncREVJoYbW"
      }
    },
    {
      "cell_type": "code",
      "source": [
        "def gen_random_graphs(rows, reber):\n",
        "  import random\n",
        "  #задаю множества, так как номера элементов уникальны\n",
        "  set1=set()\n",
        "  #создаю верхний треугольник матрицы смежности в формате множества\n",
        "  for i in range(rows**2):\n",
        "    if i//rows<i%rows:\n",
        "      set1.add(i)\n",
        "  #выбираю случайные индексы вершин для создания ребер согласно входному параметру\n",
        "  x=random.sample(set1, reber)\n",
        "  #использую списки для формирования ответа в формате соо\n",
        "  indices_from=[]\n",
        "  indices_to=[]\n",
        "  #прохожусь по выбранным ребрам и записываю вершины в списки\n",
        "  #добавляю в списке 2 ребра между указанными вершинами (т.к. граф неориентированный)\n",
        "  for i in x:\n",
        "    indices_from.append(i//rows)\n",
        "    indices_to.append(i%rows)\n",
        "    indices_from.append(i%rows)\n",
        "    indices_to.append(i//rows)\n",
        "\n",
        "  return gb.Matrix.from_coo(\n",
        "      indices_from,\n",
        "      indices_to,\n",
        "      [1]*len(indices_from),\n",
        "      nrows=rows,\n",
        "      ncols=rows\n",
        "    )"
      ],
      "metadata": {
        "id": "TGdn8JqV-tAB"
      },
      "execution_count": null,
      "outputs": []
    },
    {
      "cell_type": "code",
      "source": [
        "#как ведет себя время для очень разреженых графов с увеличением числа вершин\n",
        "for i in range(1000,10000,1000):\n",
        "  print(f'Количество вершин: {i}, количество ребер: 1')\n",
        "  randGraph=gen_random_graphs(i, 1)\n",
        "  print(test_time(randGraph))"
      ],
      "metadata": {
        "colab": {
          "base_uri": "https://localhost:8080/"
        },
        "id": "-Jvtq5n2zYuj",
        "outputId": "1dbd948c-53c0-4fe1-bdd9-07c6f8ae3570"
      },
      "execution_count": null,
      "outputs": [
        {
          "output_type": "stream",
          "name": "stdout",
          "text": [
            "Количество вершин: 1000, количество ребер: 1\n"
          ]
        },
        {
          "output_type": "stream",
          "name": "stderr",
          "text": [
            "<ipython-input-1-145c16b95be0>:10: DeprecationWarning: Sampling from a set deprecated\n",
            "since Python 3.9 and will be removed in a subsequent version.\n",
            "  x=random.sample(set1, reber)\n"
          ]
        },
        {
          "output_type": "stream",
          "name": "stdout",
          "text": [
            "NaiveA3:\n",
            "216 µs ± 28.2 µs per loop (mean ± std. dev. of 7 runs, 1000 loops each)\n",
            "NaiveA2:\n",
            "176 µs ± 37.4 µs per loop (mean ± std. dev. of 7 runs, 10000 loops each)\n",
            "Cohens:\n",
            "330 µs ± 15.9 µs per loop (mean ± std. dev. of 7 runs, 1000 loops each)\n",
            "Sandia:\n",
            "249 µs ± 8.97 µs per loop (mean ± std. dev. of 7 runs, 1000 loops each)\n",
            "None\n",
            "Количество вершин: 2000, количество ребер: 1\n",
            "NaiveA3:\n",
            "276 µs ± 52 µs per loop (mean ± std. dev. of 7 runs, 1000 loops each)\n",
            "NaiveA2:\n",
            "245 µs ± 65.6 µs per loop (mean ± std. dev. of 7 runs, 1000 loops each)\n",
            "Cohens:\n",
            "337 µs ± 32.5 µs per loop (mean ± std. dev. of 7 runs, 1000 loops each)\n",
            "Sandia:\n",
            "243 µs ± 15.5 µs per loop (mean ± std. dev. of 7 runs, 1000 loops each)\n",
            "None\n",
            "Количество вершин: 3000, количество ребер: 1\n",
            "NaiveA3:\n",
            "196 µs ± 5.25 µs per loop (mean ± std. dev. of 7 runs, 1000 loops each)\n",
            "NaiveA2:\n",
            "179 µs ± 28.5 µs per loop (mean ± std. dev. of 7 runs, 10000 loops each)\n",
            "Cohens:\n",
            "408 µs ± 110 µs per loop (mean ± std. dev. of 7 runs, 1000 loops each)\n",
            "Sandia:\n",
            "262 µs ± 17 µs per loop (mean ± std. dev. of 7 runs, 1000 loops each)\n",
            "None\n",
            "Количество вершин: 4000, количество ребер: 1\n",
            "NaiveA3:\n",
            "235 µs ± 41.3 µs per loop (mean ± std. dev. of 7 runs, 10000 loops each)\n",
            "NaiveA2:\n",
            "175 µs ± 26.3 µs per loop (mean ± std. dev. of 7 runs, 10000 loops each)\n",
            "Cohens:\n",
            "313 µs ± 7.94 µs per loop (mean ± std. dev. of 7 runs, 1000 loops each)\n",
            "Sandia:\n",
            "232 µs ± 14.3 µs per loop (mean ± std. dev. of 7 runs, 1000 loops each)\n",
            "None\n",
            "Количество вершин: 5000, количество ребер: 1\n",
            "NaiveA3:\n",
            "216 µs ± 14.5 µs per loop (mean ± std. dev. of 7 runs, 1000 loops each)\n",
            "NaiveA2:\n",
            "191 µs ± 33.3 µs per loop (mean ± std. dev. of 7 runs, 1000 loops each)\n",
            "Cohens:\n",
            "569 µs ± 312 µs per loop (mean ± std. dev. of 7 runs, 1000 loops each)\n",
            "Sandia:\n",
            "329 µs ± 76.6 µs per loop (mean ± std. dev. of 7 runs, 1000 loops each)\n",
            "None\n",
            "Количество вершин: 6000, количество ребер: 1\n",
            "NaiveA3:\n",
            "The slowest run took 30.00 times longer than the fastest. This could mean that an intermediate result is being cached.\n",
            "1.43 ms ± 2 ms per loop (mean ± std. dev. of 7 runs, 1 loop each)\n",
            "NaiveA2:\n",
            "210 µs ± 107 µs per loop (mean ± std. dev. of 7 runs, 10000 loops each)\n",
            "Cohens:\n",
            "388 µs ± 103 µs per loop (mean ± std. dev. of 7 runs, 1000 loops each)\n",
            "Sandia:\n",
            "230 µs ± 7.01 µs per loop (mean ± std. dev. of 7 runs, 1000 loops each)\n",
            "None\n",
            "Количество вершин: 7000, количество ребер: 1\n",
            "NaiveA3:\n",
            "201 µs ± 28.3 µs per loop (mean ± std. dev. of 7 runs, 10000 loops each)\n",
            "NaiveA2:\n",
            "165 µs ± 28.1 µs per loop (mean ± std. dev. of 7 runs, 10000 loops each)\n",
            "Cohens:\n",
            "298 µs ± 9.65 µs per loop (mean ± std. dev. of 7 runs, 1000 loops each)\n",
            "Sandia:\n",
            "320 µs ± 61.9 µs per loop (mean ± std. dev. of 7 runs, 1000 loops each)\n",
            "None\n",
            "Количество вершин: 8000, количество ребер: 1\n",
            "NaiveA3:\n",
            "189 µs ± 11.2 µs per loop (mean ± std. dev. of 7 runs, 1000 loops each)\n",
            "NaiveA2:\n",
            "168 µs ± 33.3 µs per loop (mean ± std. dev. of 7 runs, 10000 loops each)\n",
            "Cohens:\n",
            "298 µs ± 9.33 µs per loop (mean ± std. dev. of 7 runs, 1000 loops each)\n",
            "Sandia:\n",
            "227 µs ± 7.76 µs per loop (mean ± std. dev. of 7 runs, 1000 loops each)\n",
            "None\n",
            "Количество вершин: 9000, количество ребер: 1\n",
            "NaiveA3:\n",
            "331 µs ± 147 µs per loop (mean ± std. dev. of 7 runs, 10000 loops each)\n",
            "NaiveA2:\n",
            "The slowest run took 4.53 times longer than the fastest. This could mean that an intermediate result is being cached.\n",
            "315 µs ± 192 µs per loop (mean ± std. dev. of 7 runs, 1000 loops each)\n",
            "Cohens:\n",
            "415 µs ± 81.1 µs per loop (mean ± std. dev. of 7 runs, 1000 loops each)\n",
            "Sandia:\n",
            "231 µs ± 11 µs per loop (mean ± std. dev. of 7 runs, 1000 loops each)\n",
            "None\n"
          ]
        }
      ]
    },
    {
      "cell_type": "markdown",
      "source": [
        "1. Наивный алгоритм почти всегда быстрее своих оптимизированных \"коллег\" (так как алгоритмы Cohen и Sandia рассчитаны, в первую очередь, на более плотные графы с большим количеством вершин).\n",
        "2. Наиболее эффективным по времени оказался наивный алгоритм с маской, оптимизирующий наивный алгоритм путем замены дорогой по времени операции умножения матриц на поэлементное умножение (или \"просеивание\" через маску).\n",
        "3. Однако, результаты теста нельзя назвать значимыми для практического применения, поскольку очень редко на практике приходится работать с относительно малыми и настолько разреженными графами."
      ],
      "metadata": {
        "id": "KHL_6u9VA7Da"
      }
    },
    {
      "cell_type": "code",
      "source": [
        "#как ведет себя время для графов с повышением плотности\n",
        "for i in range(10000,100000,10000):\n",
        "  print(f'----------------------------------------------')\n",
        "  print(f'Количество вершин: 500, количество ребер: {i}')\n",
        "  randGraph=gen_random_graphs(500, i)\n",
        "  print(test_time(randGraph))"
      ],
      "metadata": {
        "colab": {
          "base_uri": "https://localhost:8080/"
        },
        "id": "b4Lk9ROR71Qo",
        "outputId": "eb85a476-a030-44cd-c986-bc8b54cb6466"
      },
      "execution_count": null,
      "outputs": [
        {
          "output_type": "stream",
          "name": "stdout",
          "text": [
            "----------------------------------------------\n",
            "Количество вершин: 500, количество ребер: 10000\n",
            "NaiveA3:\n"
          ]
        },
        {
          "output_type": "stream",
          "name": "stderr",
          "text": [
            "<ipython-input-1-145c16b95be0>:10: DeprecationWarning: Sampling from a set deprecated\n",
            "since Python 3.9 and will be removed in a subsequent version.\n",
            "  x=random.sample(set1, reber)\n"
          ]
        },
        {
          "output_type": "stream",
          "name": "stdout",
          "text": [
            "24.1 ms ± 893 µs per loop (mean ± std. dev. of 7 runs, 10 loops each)\n",
            "NaiveA2:\n",
            "The slowest run took 6.43 times longer than the fastest. This could mean that an intermediate result is being cached.\n",
            "8.21 ms ± 7.5 ms per loop (mean ± std. dev. of 7 runs, 100 loops each)\n",
            "Cohens:\n",
            "2.27 ms ± 69.8 µs per loop (mean ± std. dev. of 7 runs, 100 loops each)\n",
            "Sandia:\n",
            "1.58 ms ± 634 µs per loop (mean ± std. dev. of 7 runs, 1000 loops each)\n",
            "None\n",
            "----------------------------------------------\n",
            "Количество вершин: 500, количество ребер: 20000\n",
            "NaiveA3:\n",
            "41.4 ms ± 8.91 ms per loop (mean ± std. dev. of 7 runs, 10 loops each)\n",
            "NaiveA2:\n",
            "22.2 ms ± 8.35 ms per loop (mean ± std. dev. of 7 runs, 100 loops each)\n",
            "Cohens:\n",
            "6.7 ms ± 191 µs per loop (mean ± std. dev. of 7 runs, 100 loops each)\n",
            "Sandia:\n",
            "3.68 ms ± 113 µs per loop (mean ± std. dev. of 7 runs, 100 loops each)\n",
            "None\n",
            "----------------------------------------------\n",
            "Количество вершин: 500, количество ребер: 30000\n",
            "NaiveA3:\n",
            "70.7 ms ± 21.9 ms per loop (mean ± std. dev. of 7 runs, 10 loops each)\n",
            "NaiveA2:\n",
            "37.7 ms ± 583 µs per loop (mean ± std. dev. of 7 runs, 10 loops each)\n",
            "Cohens:\n",
            "17.3 ms ± 3.37 ms per loop (mean ± std. dev. of 7 runs, 100 loops each)\n",
            "Sandia:\n",
            "10.3 ms ± 4.5 ms per loop (mean ± std. dev. of 7 runs, 100 loops each)\n",
            "None\n",
            "----------------------------------------------\n",
            "Количество вершин: 500, количество ребер: 40000\n",
            "NaiveA3:\n",
            "77.1 ms ± 17.7 ms per loop (mean ± std. dev. of 7 runs, 10 loops each)\n",
            "NaiveA2:\n",
            "123 ms ± 29.8 ms per loop (mean ± std. dev. of 7 runs, 10 loops each)\n",
            "Cohens:\n",
            "36.3 ms ± 6.14 ms per loop (mean ± std. dev. of 7 runs, 10 loops each)\n",
            "Sandia:\n",
            "18.3 ms ± 8.86 ms per loop (mean ± std. dev. of 7 runs, 100 loops each)\n",
            "None\n",
            "----------------------------------------------\n",
            "Количество вершин: 500, количество ребер: 50000\n",
            "NaiveA3:\n",
            "112 ms ± 35.6 ms per loop (mean ± std. dev. of 7 runs, 10 loops each)\n",
            "NaiveA2:\n",
            "138 ms ± 39.2 ms per loop (mean ± std. dev. of 7 runs, 10 loops each)\n",
            "Cohens:\n",
            "42.8 ms ± 1.67 ms per loop (mean ± std. dev. of 7 runs, 10 loops each)\n",
            "Sandia:\n",
            "22.3 ms ± 812 µs per loop (mean ± std. dev. of 7 runs, 10 loops each)\n",
            "None\n",
            "----------------------------------------------\n",
            "Количество вершин: 500, количество ребер: 60000\n",
            "NaiveA3:\n",
            "1.08 s ± 296 ms per loop (mean ± std. dev. of 7 runs, 1 loop each)\n",
            "NaiveA2:\n",
            "420 ms ± 6.25 ms per loop (mean ± std. dev. of 7 runs, 1 loop each)\n",
            "Cohens:\n",
            "252 ms ± 50.6 ms per loop (mean ± std. dev. of 7 runs, 10 loops each)\n",
            "Sandia:\n",
            "120 ms ± 24.8 ms per loop (mean ± std. dev. of 7 runs, 10 loops each)\n",
            "None\n",
            "----------------------------------------------\n",
            "Количество вершин: 500, количество ребер: 70000\n",
            "NaiveA3:\n",
            "1.03 s ± 245 ms per loop (mean ± std. dev. of 7 runs, 1 loop each)\n",
            "NaiveA2:\n",
            "483 ms ± 6.49 ms per loop (mean ± std. dev. of 7 runs, 1 loop each)\n",
            "Cohens:\n",
            "198 ms ± 41.8 ms per loop (mean ± std. dev. of 7 runs, 10 loops each)\n",
            "Sandia:\n",
            "96.7 ms ± 6.02 ms per loop (mean ± std. dev. of 7 runs, 10 loops each)\n",
            "None\n",
            "----------------------------------------------\n",
            "Количество вершин: 500, количество ребер: 80000\n",
            "NaiveA3:\n",
            "1.74 s ± 871 ms per loop (mean ± std. dev. of 7 runs, 1 loop each)\n",
            "NaiveA2:\n",
            "1.09 s ± 213 ms per loop (mean ± std. dev. of 7 runs, 1 loop each)\n",
            "Cohens:\n",
            "216 ms ± 48.2 ms per loop (mean ± std. dev. of 7 runs, 1 loop each)\n",
            "Sandia:\n",
            "101 ms ± 526 µs per loop (mean ± std. dev. of 7 runs, 10 loops each)\n",
            "None\n",
            "----------------------------------------------\n",
            "Количество вершин: 500, количество ребер: 90000\n",
            "NaiveA3:\n",
            "929 ms ± 209 ms per loop (mean ± std. dev. of 7 runs, 1 loop each)\n",
            "NaiveA2:\n",
            "509 ms ± 7.8 ms per loop (mean ± std. dev. of 7 runs, 1 loop each)\n",
            "Cohens:\n",
            "213 ms ± 38.9 ms per loop (mean ± std. dev. of 7 runs, 10 loops each)\n",
            "Sandia:\n",
            "155 ms ± 14.7 ms per loop (mean ± std. dev. of 7 runs, 1 loop each)\n",
            "None\n"
          ]
        }
      ]
    },
    {
      "cell_type": "markdown",
      "source": [
        "1. С увеличением плотности графа с большим числом вершин наивный алгоритм стал значительно проигрывать более оптимальным подходам.\n",
        "2. Наивный алгоритм с маской по-прежнему немного более эффективен за счет отказа от дорогостоящего перемножения матриц (однако, на некоторых примерах работает даже дольше обычного наивного).\n",
        "3. Наиболее эффективным алгоритмом по результатам теста оказался Sandia, поскольку использует только верхний треугольник исходной матрицы смежности графа. Также алгоритм наиболее эффективен и по занимаемой памяти, т.к. хранит только верхнетреугольную матрицу (в отличие от Cohen, в котором хранятся 2: верхнетреугольная и нижнетреугольная).\n",
        "4. Можно сказать о том, что результаты этого теста практически применимы. Алгоритмы Sandia и Cohen's предпочтительно использовать при решении практических задач.\n"
      ],
      "metadata": {
        "id": "sKlGVpQgCn_u"
      }
    },
    {
      "cell_type": "markdown",
      "source": [
        "**Основные выводы**\n",
        "\n",
        " 1. Анализ графовых данных имеет практическое применение в следующих задачах:\n",
        "- кластеризация клиентов и предсказание связей (например, при рекомендациях друзей в соц. сетях по общим группам или контактам);\n",
        "- анализ сходства (например, для подбора аудитории для рекламы чего-либо, формирования фокус-групп);\n",
        "- всевозможные банковские скоринги (через связи между руководителями разных фирм, совместными проектами и влиянием друг на друга);\n",
        "- выявление мошенничества (через анализ связей клиентов с потенциальными мошенниками и сравнение данных с реальными мошшеническими действиями);\n",
        "- построение и оптимизация маршрутов (актуально в приложениях и платформах карт).\n",
        " 2. Наивный алгоритм можно использовать при очень плотных или очень разреженных матрицах, в остальных случаях (в т.ч. при реальных задачах, что показал тест на графах с сайта) более оптимальным (по времени и памяти) является, в первую очередь, алгоритм Sandia. Также неплохие результаты показывает Cohen's алгоритм.\n"
      ],
      "metadata": {
        "id": "iBoJqi8BHVMQ"
      }
    }
  ]
}